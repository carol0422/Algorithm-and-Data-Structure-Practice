{
 "cells": [
  {
   "cell_type": "code",
   "execution_count": 226,
   "metadata": {},
   "outputs": [],
   "source": [
    "# create Node class\n",
    "class Node:\n",
    "    def __init__(self, key, data):\n",
    "        self.key = key\n",
    "        self.data = data\n",
    "        self.left = None\n",
    "        self.right = None\n",
    "        self.height =  1 + max(self.getHeight(self.left),self.getHeight(self.right))\n",
    "        self.bf = self.getBf(self.key)\n",
    "                                     \n",
    "    def insert(self, key, data):\n",
    "        if self.key == key:\n",
    "            self.data = data\n",
    "        elif self.key > key:\n",
    "            if self.left is None:\n",
    "                self.left = Node(key, data)\n",
    "            self.left.insert(key, data)\n",
    "        else:\n",
    "            if self.right is None:\n",
    "                self.right = Node(key, data)\n",
    "            self.right.insert(key, data)\n",
    "        self.height = 1 + max(self.getHeight(self.left),self.getHeight(self.right))\n",
    "        self.bf = self.getBf(self.key)\n",
    "        \n",
    "    def getHeight(self, Node):\n",
    "        if not Node:\n",
    "            return -1 #because the height of leaves are 0\n",
    "        return Node.height\n",
    "    \n",
    "    def getBf(self,Node):\n",
    "        if not Node:\n",
    "            return 0\n",
    "        return self.getHeight(self.right) - self.getHeight(self.left)\n",
    "\n",
    "    \n",
    "    def get(self, key):\n",
    "        if key < self.key:\n",
    "            if self.left is None:\n",
    "                return 'key (' + str(key) + ') not found'\n",
    "            else:\n",
    "                return self.left.get(key)\n",
    "        elif key > self.key:\n",
    "            if self.right is None:\n",
    "                return 'key (' + str(key) + ') not found'\n",
    "            else:\n",
    "                return self.right.get(key)\n",
    "        else:\n",
    "            return self.data    \n",
    "            \n",
    "    def displayBf(self):\n",
    "        lines, *_ = self._display_aux()\n",
    "        for line in lines:\n",
    "            print(line)\n",
    "\n",
    "    def _display_aux(self):\n",
    "        \"\"\"Returns list of strings, width, height, and horizontal coordinate of the root.\"\"\"\n",
    "        # No child.\n",
    "        if self.right is None and self.left is None:\n",
    "            line = '%s' % self.bf\n",
    "            width = len(line)\n",
    "            height = 1\n",
    "            middle = width // 2\n",
    "            return [line], width, height, middle\n",
    "\n",
    "        # Only left child.\n",
    "        if self.right is None:\n",
    "            lines, n, p, x = self.left._display_aux()\n",
    "            s = '%s' % self.bf\n",
    "            u = len(s)\n",
    "            first_line = (x + 1) * ' ' + (n - x - 1) * '_' + s\n",
    "            second_line = x * ' ' + '/' + (n - x - 1 + u) * ' '\n",
    "            shifted_lines = [line + u * ' ' for line in lines]\n",
    "            return [first_line, second_line] + shifted_lines, n + u, p + 2, n + u // 2\n",
    "\n",
    "        # Only right child.\n",
    "        if self.left is None:\n",
    "            lines, n, p, x = self.right._display_aux()\n",
    "            s = '%s' % self.bf\n",
    "            u = len(s)\n",
    "            first_line = s + x * '_' + (n - x) * ' '\n",
    "            second_line = (u + x) * ' ' + '\\\\' + (n - x - 1) * ' '\n",
    "            shifted_lines = [u * ' ' + line for line in lines]\n",
    "            return [first_line, second_line] + shifted_lines, n + u, p + 2, u // 2\n",
    "\n",
    "        # Two children.\n",
    "        left, n, p, x = self.left._display_aux()\n",
    "        right, m, q, y = self.right._display_aux()\n",
    "        s = '%s' % self.bf\n",
    "        u = len(s)\n",
    "        first_line = (x + 1) * ' ' + (n - x - 1) * '_' + s + y * '_' + (m - y) * ' '\n",
    "        second_line = x * ' ' + '/' + (n - x - 1 + u + y) * ' ' + '\\\\' + (m - y - 1) * ' '\n",
    "        if p < q:\n",
    "            left += [n * ' '] * (q - p)\n",
    "        elif q < p:\n",
    "            right += [m * ' '] * (p - q)\n",
    "        zipped_lines = zip(left, right)\n",
    "        lines = [first_line, second_line] + [a + u * ' ' + b for a, b in zipped_lines]\n",
    "        return lines, n + m + u, max(p, q) + 2, n + u // 2   "
   ]
  },
  {
   "cell_type": "code",
   "execution_count": 233,
   "metadata": {},
   "outputs": [],
   "source": [
    "# create a avl tree\n",
    "tree = Node(0,0)\n",
    "tree.insert(1,None)\n",
    "tree.insert(5,None)\n",
    "tree.insert(3,None)\n",
    "tree.insert(4,None)"
   ]
  },
  {
   "cell_type": "code",
   "execution_count": 235,
   "metadata": {},
   "outputs": [
    {
     "name": "stdout",
     "output_type": "stream",
     "text": [
      "0     \n",
      " \\    \n",
      " 3___ \n",
      "     \\\n",
      "   _-2\n",
      "  /   \n",
      "  1   \n",
      "   \\  \n",
      "   0  \n"
     ]
    }
   ],
   "source": [
    "# display the balance factor\n",
    "tree.displayBf() \n",
    "# the balance factor of root might not be correct\n",
    "# but it doesn't affect the result of identifying whether a tree is balanced\n"
   ]
  },
  {
   "cell_type": "code",
   "execution_count": null,
   "metadata": {},
   "outputs": [],
   "source": []
  },
  {
   "cell_type": "code",
   "execution_count": null,
   "metadata": {},
   "outputs": [],
   "source": []
  },
  {
   "cell_type": "code",
   "execution_count": null,
   "metadata": {},
   "outputs": [],
   "source": []
  }
 ],
 "metadata": {
  "interpreter": {
   "hash": "b5676502b88017e93a55a8c5fa7f7e87346719e7f13789c853649b8dbb0011e0"
  },
  "kernelspec": {
   "display_name": "Python 3",
   "language": "python",
   "name": "python3"
  },
  "language_info": {
   "codemirror_mode": {
    "name": "ipython",
    "version": 3
   },
   "file_extension": ".py",
   "mimetype": "text/x-python",
   "name": "python",
   "nbconvert_exporter": "python",
   "pygments_lexer": "ipython3",
   "version": "3.8.3"
  }
 },
 "nbformat": 4,
 "nbformat_minor": 4
}
