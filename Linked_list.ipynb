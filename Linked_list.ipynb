{
  "nbformat": 4,
  "nbformat_minor": 5,
  "metadata": {
    "kernelspec": {
      "display_name": "Python 3",
      "language": "python",
      "name": "python3"
    },
    "language_info": {
      "codemirror_mode": {
        "name": "ipython",
        "version": 3
      },
      "file_extension": ".py",
      "mimetype": "text/x-python",
      "name": "python",
      "nbconvert_exporter": "python",
      "pygments_lexer": "ipython3",
      "version": "3.8.8"
    },
    "colab": {
      "name": "Linked_list_v1.0.ipynb",
      "provenance": [],
      "collapsed_sections": []
    }
  },
  "cells": [
    {
      "cell_type": "markdown",
      "metadata": {
        "id": "d3f978c6"
      },
      "source": [
        "\n",
        "\n",
        "## Group Name - HighQs\n",
        "\n",
        "Assignment: Design linked list and plot the observations to understand the time complexity for insterting an element at beginning of a list and accessing an element at random. \n",
        "\n",
        "### 1. Yang Lu\n",
        "### 2. Vishnu Prabhakar\n",
        "### 3. VS Chaitanya Madduri\n",
        "### 4. Juan Diego Zucchino Aguilar\n",
        "### 5. Ziyi Liu\n",
        "\n",
        "\n",
        "\n"
      ],
      "id": "d3f978c6"
    },
    {
      "cell_type": "code",
      "metadata": {
        "id": "-Vy7M6nK57WD"
      },
      "source": [
        "# packages\n",
        "import random\n",
        "import math\n",
        "from time import perf_counter_ns\n",
        "from matplotlib import pyplot as plt"
      ],
      "id": "-Vy7M6nK57WD",
      "execution_count": 23,
      "outputs": []
    },
    {
      "cell_type": "code",
      "metadata": {
        "id": "eed87ee7"
      },
      "source": [
        "# TO print multiple outputs in single line\n",
        "from IPython.core.interactiveshell import InteractiveShell\n",
        "InteractiveShell.ast_node_interactivity = \"all\""
      ],
      "id": "eed87ee7",
      "execution_count": 5,
      "outputs": []
    },
    {
      "cell_type": "code",
      "metadata": {
        "id": "V_geHLHsepey"
      },
      "source": [
        "# Final code \n",
        "class Node:\n",
        "    def __init__(self, data):\n",
        "        \"\"\"\n",
        "        Constructs all the necessary attributes for the Node object.\n",
        "\n",
        "        Parameters\n",
        "        ----------\n",
        "            data : str\n",
        "                The element for which node to be created\n",
        "\n",
        "        \"\"\"\n",
        "        self.data = data\n",
        "        self.next = None\n",
        "\n",
        "    def __str__(self):\n",
        "        return str(self.data)\n",
        "\n",
        "\n",
        "class LinkedList:\n",
        "    def __init__(self):\n",
        "        \"\"\"\n",
        "        Constructs all the necessary attributes for the linkedList object.\n",
        "\n",
        "        Parameters\n",
        "        ----------\n",
        "        head : str, default = None \n",
        "              The startpoint for the linked list. The data if the head will be \n",
        "              none and the next part of the head will have the first element.\n",
        "\n",
        "        \"\"\"\n",
        "        self.head = Node(None)\n",
        "\n",
        "    def __str__(self):\n",
        "        elements = ' '\n",
        "        local_index = self.head.next\n",
        "        while local_index is not None:\n",
        "            elements = elements + ' ' + str(local_index.data)\n",
        "            local_index = local_index.next\n",
        "        return elements\n",
        "\n",
        "    def add(self, data):\n",
        "\n",
        "        '''\n",
        "        Adds a new element at end of the Linked list\n",
        "\n",
        "        Parameters\n",
        "        ----------\n",
        "        data : str\n",
        "            The element to be added to he linked list\n",
        "\n",
        "        Returns\n",
        "        -------\n",
        "        None\n",
        "        '''\n",
        "        new_node = Node(data) \n",
        "      \n",
        "        if self.head is None: \n",
        "            self.head = new_node\n",
        "            return\n",
        "\n",
        "        last_node = self.head \n",
        "        while last_node.next is not None: \n",
        "            last_node = last_node.next  \n",
        "        last_node.next = new_node\n",
        "\n",
        "    def at(self, index):\n",
        "        '''\n",
        "        Gets the Node for the given index (if index exists) in the linked list\n",
        "    \n",
        "        Parameters\n",
        "        ----------\n",
        "        index:\n",
        "            The index position for which the Node to be found. \n",
        "            Please note 0 will be the first index position \n",
        "    \n",
        "        Returns\n",
        "        -------\n",
        "        data: returns the Node object if present else will return None\n",
        "        '''\n",
        "        if index > self.__len__():\n",
        "            print(\"index \" + str(index) + \" not found\")\n",
        "            return\n",
        "        current = self.head\n",
        "        current_index = 0\n",
        "        while current.next is not None:\n",
        "          \n",
        "          if index == current_index:\n",
        "                return current.data\n",
        "          current = current.next\n",
        "          current_index += 1\n",
        "\n",
        "\n",
        "\n",
        "    def insert(self, index, data):\n",
        "        '''\n",
        "        Adds a new element after the index position for the given linked list\n",
        "    \n",
        "        Parameters\n",
        "        ----------\n",
        "        index:\n",
        "            The element after which the data to be added\n",
        "    \n",
        "        data : str\n",
        "            The element to be added to he linked list\n",
        "    \n",
        "        Returns\n",
        "        -------\n",
        "            Returns a message if the index is not present in the Linked list\n",
        "        '''\n",
        "    \n",
        "        if index > self.__len__():\n",
        "            print(\"index \" + str(index) + \" not found\")\n",
        "            return None\n",
        "        new_node = Node(data)\n",
        "        current = self.head\n",
        "        current_index = 0\n",
        "        while True:\n",
        "            previous = current\n",
        "            current = current.next\n",
        "            if index == current_index:\n",
        "                previous.next = new_node\n",
        "                new_node.next = current\n",
        "                return\n",
        "            current_index += 1\n",
        "    \n",
        "    def insert_beginning(self, data):\n",
        "        '''\n",
        "        Gets the Node object for the given index(if index exists) from the linked list\n",
        "\n",
        "        Parameters\n",
        "        ----------\n",
        "        index:\n",
        "            The element for which the Node to be found\n",
        "\n",
        "        Returns\n",
        "        -------\n",
        "        data: returns the Node object if present else will return None\n",
        "        '''\n",
        "\n",
        "        local_index = Node(data)\n",
        "        temp_next_node = self.head.next.next  \n",
        "        local_index.next = temp_next_node\n",
        "        self.head.next = local_index \n",
        "        \n",
        "\n",
        "\n",
        "    def remove(self, index):\n",
        "        '''\n",
        "        Gets the Node object for the given index(if index exists) and deletes it from the linked list\n",
        "    \n",
        "        Parameters\n",
        "        ----------\n",
        "        index: str\n",
        "            The element for which the Node to be removed\n",
        "    \n",
        "        Returns\n",
        "        -------\n",
        "        Returns a message if the index is not present in the Linked list\n",
        "        '''\n",
        "    \n",
        "        if index >= self.__len__():\n",
        "            print(\"index \" + str(index) + \" not found\")\n",
        "            return\n",
        "        current = self.head\n",
        "        current_index = 0\n",
        "        while True:\n",
        "            prev = current\n",
        "            current = current.next\n",
        "            if index == current_index:\n",
        "                prev.next = current.next\n",
        "                print(\"Node at the index \" + str(index) + \" has been successfully removed\")\n",
        "                return\n",
        "            current_index += 1\n",
        "    \n",
        "    def __len__(self):\n",
        "        current = self.head\n",
        "        length_linkedlist = 0\n",
        "        while current.next is not None:\n",
        "            length_linkedlist = length_linkedlist + 1\n",
        "            current = current.next\n",
        "        return length_linkedlist   "
      ],
      "id": "V_geHLHsepey",
      "execution_count": 6,
      "outputs": []
    },
    {
      "cell_type": "code",
      "metadata": {
        "colab": {
          "base_uri": "https://localhost:8080/"
        },
        "id": "mN_1RFftepTa",
        "outputId": "b3e067f2-eedb-43ca-fa84-f4df6fd95d9e"
      },
      "source": [
        "#Testing the code\n",
        "\n",
        "l1 = LinkedList()\n",
        "l1.add(45)\n",
        "print(\"========================= New Scenario =========================\")\n",
        "len(l1)\n",
        "print(l1)\n",
        "\n",
        "l1.add(77)\n",
        "print(\"========================= New Scenario =========================\")\n",
        "len(l1)\n",
        "print(l1)\n",
        "\n",
        "l1.add(788555)\n",
        "print(\"========================= New Scenario =========================\")\n",
        "len(l1)\n",
        "print(l1)\n",
        "\n",
        "\n",
        "l1.remove(5)\n",
        "print(\"========================= New Scenario =========================\")\n",
        "len(l1)\n",
        "print(l1)\n",
        "\n",
        "\n",
        "\n",
        "l1.remove(0)\n",
        "print(\"========================= New Scenario =========================\")\n",
        "len(l1)\n",
        "print(l1)\n",
        "\n",
        "\n",
        "\n",
        "l1.add(777)\n",
        "print(\"========================= New Scenario =========================\")\n",
        "len(l1)\n",
        "print(l1)\n",
        "\n",
        "l1.insert(2,7017)\n",
        "print(\"========================= New Scenario =========================\")\n",
        "len(l1)\n",
        "print(l1)\n",
        "\n",
        "l1.insert(1,70457)\n",
        "print(\"========================= New Scenario =========================\")\n",
        "len(l1)\n",
        "print(l1)\n",
        "\n",
        "\n",
        "l1.remove(2)\n",
        "print(\"========================= New Scenario =========================\")\n",
        "len(l1)\n",
        "print(l1)\n",
        "\n",
        "\n",
        "l1.insert_beginning(564)\n",
        "print(\"========================= New Scenario =========================\")\n",
        "len(l1)\n",
        "print(l1)"
      ],
      "id": "mN_1RFftepTa",
      "execution_count": 7,
      "outputs": [
        {
          "output_type": "stream",
          "name": "stdout",
          "text": [
            "========================= New Scenario =========================\n"
          ]
        },
        {
          "output_type": "execute_result",
          "data": {
            "text/plain": [
              "1"
            ]
          },
          "metadata": {},
          "execution_count": 7
        },
        {
          "output_type": "stream",
          "name": "stdout",
          "text": [
            "  45\n",
            "========================= New Scenario =========================\n"
          ]
        },
        {
          "output_type": "execute_result",
          "data": {
            "text/plain": [
              "2"
            ]
          },
          "metadata": {},
          "execution_count": 7
        },
        {
          "output_type": "stream",
          "name": "stdout",
          "text": [
            "  45 77\n",
            "========================= New Scenario =========================\n"
          ]
        },
        {
          "output_type": "execute_result",
          "data": {
            "text/plain": [
              "3"
            ]
          },
          "metadata": {},
          "execution_count": 7
        },
        {
          "output_type": "stream",
          "name": "stdout",
          "text": [
            "  45 77 788555\n",
            "index 5 not found\n",
            "========================= New Scenario =========================\n"
          ]
        },
        {
          "output_type": "execute_result",
          "data": {
            "text/plain": [
              "3"
            ]
          },
          "metadata": {},
          "execution_count": 7
        },
        {
          "output_type": "stream",
          "name": "stdout",
          "text": [
            "  45 77 788555\n",
            "Node at the index 0 has been successfully removed\n",
            "========================= New Scenario =========================\n"
          ]
        },
        {
          "output_type": "execute_result",
          "data": {
            "text/plain": [
              "2"
            ]
          },
          "metadata": {},
          "execution_count": 7
        },
        {
          "output_type": "stream",
          "name": "stdout",
          "text": [
            "  77 788555\n",
            "========================= New Scenario =========================\n"
          ]
        },
        {
          "output_type": "execute_result",
          "data": {
            "text/plain": [
              "3"
            ]
          },
          "metadata": {},
          "execution_count": 7
        },
        {
          "output_type": "stream",
          "name": "stdout",
          "text": [
            "  77 788555 777\n",
            "========================= New Scenario =========================\n"
          ]
        },
        {
          "output_type": "execute_result",
          "data": {
            "text/plain": [
              "4"
            ]
          },
          "metadata": {},
          "execution_count": 7
        },
        {
          "output_type": "stream",
          "name": "stdout",
          "text": [
            "  77 788555 7017 777\n",
            "========================= New Scenario =========================\n"
          ]
        },
        {
          "output_type": "execute_result",
          "data": {
            "text/plain": [
              "5"
            ]
          },
          "metadata": {},
          "execution_count": 7
        },
        {
          "output_type": "stream",
          "name": "stdout",
          "text": [
            "  77 70457 788555 7017 777\n",
            "Node at the index 2 has been successfully removed\n",
            "========================= New Scenario =========================\n"
          ]
        },
        {
          "output_type": "execute_result",
          "data": {
            "text/plain": [
              "4"
            ]
          },
          "metadata": {},
          "execution_count": 7
        },
        {
          "output_type": "stream",
          "name": "stdout",
          "text": [
            "  77 70457 7017 777\n",
            "========================= New Scenario =========================\n"
          ]
        },
        {
          "output_type": "execute_result",
          "data": {
            "text/plain": [
              "4"
            ]
          },
          "metadata": {},
          "execution_count": 7
        },
        {
          "output_type": "stream",
          "name": "stdout",
          "text": [
            "  564 70457 7017 777\n"
          ]
        }
      ]
    },
    {
      "cell_type": "markdown",
      "metadata": {
        "id": "zQgw8nnp1od_"
      },
      "source": [
        "# Time Complexity Visualization\n"
      ],
      "id": "zQgw8nnp1od_"
    },
    {
      "cell_type": "markdown",
      "metadata": {
        "id": "TBN2wUEF10x7"
      },
      "source": [
        "## 1. Try to add new elements at the beginning of the Linked List for different lengths (e.g. create a Linked List of 10000 and 100000 elements) "
      ],
      "id": "TBN2wUEF10x7"
    },
    {
      "cell_type": "code",
      "metadata": {
        "id": "WPJ3fBR2DfeC"
      },
      "source": [
        "#Creating the linked list of 10000\n",
        "ln_10000 = LinkedList()\n",
        "for i in range (10000):\n",
        "    ln_10000.add(i)"
      ],
      "id": "WPJ3fBR2DfeC",
      "execution_count": 8,
      "outputs": []
    },
    {
      "cell_type": "code",
      "metadata": {
        "id": "BpE-vBXKdXsh"
      },
      "source": [
        "#Creating the linked list of 20000\n",
        "ln_20000 = LinkedList()\n",
        "for i in range (20000):\n",
        "    ln_20000.add(i)"
      ],
      "id": "BpE-vBXKdXsh",
      "execution_count": 9,
      "outputs": []
    },
    {
      "cell_type": "code",
      "metadata": {
        "id": "wCgzJgyXDfge"
      },
      "source": [
        "#Creating the linked list of 60000\n",
        "ln_60000 = LinkedList()\n",
        "for i in range (60000):\n",
        "    ln_60000.add(i)"
      ],
      "id": "wCgzJgyXDfge",
      "execution_count": 10,
      "outputs": []
    },
    {
      "cell_type": "code",
      "metadata": {
        "colab": {
          "base_uri": "https://localhost:8080/"
        },
        "id": "OMR8bb8Bky6_",
        "outputId": "e273e286-823a-4e27-9537-d04c0ea5226a"
      },
      "source": [
        "len(ln_20000)\n"
      ],
      "id": "OMR8bb8Bky6_",
      "execution_count": 11,
      "outputs": [
        {
          "output_type": "execute_result",
          "data": {
            "text/plain": [
              "20000"
            ]
          },
          "metadata": {},
          "execution_count": 11
        }
      ]
    },
    {
      "cell_type": "code",
      "metadata": {
        "id": "csHsdZ0YuiR-"
      },
      "source": [
        "#Creating the linked list of 80000\n",
        "ln_80000 = LinkedList()\n",
        "for i in range (80000):\n",
        "    ln_80000.add(i)"
      ],
      "id": "csHsdZ0YuiR-",
      "execution_count": 12,
      "outputs": []
    },
    {
      "cell_type": "code",
      "metadata": {
        "id": "_7zQ2dvfDfit"
      },
      "source": [
        "#Creating the linked list of 100000\n",
        "ln_100000 = LinkedList()\n",
        "for i in range (100000):\n",
        "    ln_100000.add(i)"
      ],
      "id": "_7zQ2dvfDfit",
      "execution_count": 13,
      "outputs": []
    },
    {
      "cell_type": "code",
      "metadata": {
        "id": "dHNP3C3PbQg-"
      },
      "source": [
        "# Creating 5 different Linked_list with lengths 10000,20000,60000,80000,100000 and -\n",
        "# calculating the time taken to insert a element at the start of the list\n",
        "\n",
        "\n",
        "for i in range(2):\n",
        "\n",
        "  total_time = []\n",
        "  new_value = 99900000\n",
        "\n",
        "  start_time = perf_counter_ns()\n",
        "  ln_10000.insert_beginning(new_value+1)\n",
        "  total_time.append(perf_counter_ns() - start_time)\n",
        "\n",
        "\n",
        "  start_time = perf_counter_ns()\n",
        "  ln_20000.insert_beginning(new_value+1)\n",
        "  total_time.append(perf_counter_ns() - start_time)\n",
        "\n",
        "  start_time = perf_counter_ns()\n",
        "  ln_60000.insert_beginning(new_value+1)\n",
        "  total_time.append(perf_counter_ns() - start_time)\n",
        "\n",
        "\n",
        "\n",
        "  start_time = perf_counter_ns()\n",
        "  ln_80000.insert_beginning(new_value+1) \n",
        "  total_time.append(perf_counter_ns() - start_time)\n",
        "\n",
        "\n",
        "  start_time = perf_counter_ns()\n",
        "  ln_100000.insert_beginning(new_value+1)\n",
        "  total_time.append(perf_counter_ns() - start_time)"
      ],
      "id": "dHNP3C3PbQg-",
      "execution_count": 14,
      "outputs": []
    },
    {
      "cell_type": "code",
      "metadata": {
        "colab": {
          "base_uri": "https://localhost:8080/"
        },
        "id": "f8NYg-jNoTEL",
        "outputId": "054f7ccb-ea70-47da-93ae-f3af8d910d0b"
      },
      "source": [
        "total_time # printing the time taken"
      ],
      "id": "f8NYg-jNoTEL",
      "execution_count": 15,
      "outputs": [
        {
          "output_type": "execute_result",
          "data": {
            "text/plain": [
              "[1514, 1488, 1409, 1396, 1397]"
            ]
          },
          "metadata": {},
          "execution_count": 15
        }
      ]
    },
    {
      "cell_type": "code",
      "metadata": {
        "colab": {
          "base_uri": "https://localhost:8080/",
          "height": 693
        },
        "id": "KX7y-zkycfu0",
        "outputId": "b82b3720-547a-4ff0-889d-616332b02951"
      },
      "source": [
        "#ploting the Time taken for each case\n",
        "plt.figure(figsize=(10,10))\n",
        "plt.plot( [10000,20000, 60000, 80000, 100000],total_time,  label = \"time taken values\" )\n",
        "y_lim = plt.ylim(ymin=0, ymax=total_time[0]*1.5)\n",
        "x_lim = plt.xlim()\n",
        "\n",
        "plt.title('Linked list Insertion at beginning - Time complexity')\n",
        "plt.xlabel(\"Length of linked list\")\n",
        "plt.ylabel(\"insertion time (nano sec)\")\n",
        "plt.legend()\n",
        "plt.show()"
      ],
      "id": "KX7y-zkycfu0",
      "execution_count": 16,
      "outputs": [
        {
          "output_type": "execute_result",
          "data": {
            "text/plain": [
              "<Figure size 720x720 with 0 Axes>"
            ]
          },
          "metadata": {},
          "execution_count": 16
        },
        {
          "output_type": "execute_result",
          "data": {
            "text/plain": [
              "[<matplotlib.lines.Line2D at 0x7fb009dfb710>]"
            ]
          },
          "metadata": {},
          "execution_count": 16
        },
        {
          "output_type": "execute_result",
          "data": {
            "text/plain": [
              "Text(0.5, 1.0, 'Linked list Insertion at beginning - Time complexity')"
            ]
          },
          "metadata": {},
          "execution_count": 16
        },
        {
          "output_type": "execute_result",
          "data": {
            "text/plain": [
              "Text(0.5, 0, 'Length of linked list')"
            ]
          },
          "metadata": {},
          "execution_count": 16
        },
        {
          "output_type": "execute_result",
          "data": {
            "text/plain": [
              "Text(0, 0.5, 'insertion time (nano sec)')"
            ]
          },
          "metadata": {},
          "execution_count": 16
        },
        {
          "output_type": "execute_result",
          "data": {
            "text/plain": [
              "<matplotlib.legend.Legend at 0x7fb009dfbb10>"
            ]
          },
          "metadata": {},
          "execution_count": 16
        },
        {
          "output_type": "display_data",
          "data": {
            "image/png": "[encoded data removed]",
            "text/plain": [
              "<Figure size 720x720 with 1 Axes>"
            ]
          },
          "metadata": {
            "needs_background": "light"
          }
        }
      ]
    },
    {
      "cell_type": "markdown",
      "metadata": {
        "id": "QHKqsSDe2d1m"
      },
      "source": [
        "Observation : We can see that the time taken to insert a element at the beginning of the list is almost remaining the same not matter what is the size of the linked list. "
      ],
      "id": "QHKqsSDe2d1m"
    },
    {
      "cell_type": "markdown",
      "metadata": {
        "id": "kC8xpL-k2yPk"
      },
      "source": [
        "## 2. Accessing an elements randomly on a linked list "
      ],
      "id": "kC8xpL-k2yPk"
    },
    {
      "cell_type": "code",
      "metadata": {
        "id": "ZdYfbZIoo5wP",
        "colab": {
          "base_uri": "https://localhost:8080/"
        },
        "outputId": "eaeae3bb-da19-49a4-fc8e-134fdcdecc43"
      },
      "source": [
        "#  As part the this analysis we will randamly access elements in the linked \n",
        "# list of size 10000,20000,60000,80000,100000\n",
        "\n",
        "\n",
        "total_time_2 = []\n",
        "# random_element = 5555099\n",
        "\n",
        "start_time = perf_counter_ns()\n",
        "ln_10000.at(random.randint(1,10000))\n",
        "total_time_2.append(perf_counter_ns() - start_time)\n",
        "\n",
        "\n",
        "start_time = perf_counter_ns()\n",
        "ln_20000.at(random.randint(1,20000))\n",
        "total_time_2.append(perf_counter_ns() - start_time)\n",
        "\n",
        "\n",
        "start_time = perf_counter_ns()\n",
        "ln_60000.at(random.randint(1,60000))\n",
        "total_time_2.append(perf_counter_ns() - start_time)\n",
        "\n",
        "\n",
        "start_time = perf_counter_ns()\n",
        "ln_80000.at(random.randint(1,80000))\n",
        "total_time_2.append(perf_counter_ns() - start_time)\n",
        "\n",
        "\n",
        "start_time = perf_counter_ns()\n",
        "ln_100000.at(random.randint(1,100000))\n",
        "total_time_2.append(perf_counter_ns() - start_time)"
      ],
      "id": "ZdYfbZIoo5wP",
      "execution_count": 17,
      "outputs": [
        {
          "output_type": "execute_result",
          "data": {
            "text/plain": [
              "9244"
            ]
          },
          "metadata": {},
          "execution_count": 17
        },
        {
          "output_type": "execute_result",
          "data": {
            "text/plain": [
              "14394"
            ]
          },
          "metadata": {},
          "execution_count": 17
        },
        {
          "output_type": "execute_result",
          "data": {
            "text/plain": [
              "12053"
            ]
          },
          "metadata": {},
          "execution_count": 17
        },
        {
          "output_type": "execute_result",
          "data": {
            "text/plain": [
              "18918"
            ]
          },
          "metadata": {},
          "execution_count": 17
        },
        {
          "output_type": "execute_result",
          "data": {
            "text/plain": [
              "95501"
            ]
          },
          "metadata": {},
          "execution_count": 17
        }
      ]
    },
    {
      "cell_type": "code",
      "metadata": {
        "colab": {
          "base_uri": "https://localhost:8080/"
        },
        "id": "rfwFGsIh_nuI",
        "outputId": "e493d367-666b-45d3-c099-2677116faa4c"
      },
      "source": [
        "print(total_time_2)"
      ],
      "id": "rfwFGsIh_nuI",
      "execution_count": 18,
      "outputs": [
        {
          "output_type": "stream",
          "name": "stdout",
          "text": [
            "[9133021, 11403466, 18982662, 18801106, 35957882]\n"
          ]
        }
      ]
    },
    {
      "cell_type": "code",
      "metadata": {
        "colab": {
          "base_uri": "https://localhost:8080/",
          "height": 693
        },
        "id": "7vRb5wtdo5zi",
        "outputId": "fef0af0d-74e9-4543-f1de-1861dab90084"
      },
      "source": [
        "# Ploting the visualization \n",
        "plt.figure(figsize=(10,10))\n",
        "plt.plot( [10000,20000, 60000, 80000, 100000],total_time_2,  label = \"time taken values\" )\n",
        "y_lim = plt.ylim(ymin=0)\n",
        "x_lim = plt.xlim()\n",
        "plt.title('Linked list access at Random position')\n",
        "plt.xlabel(\"Length of linked list\")\n",
        "plt.ylabel(\"insertion time (nano sec)\")\n",
        "plt.legend()\n",
        "plt.show()"
      ],
      "id": "7vRb5wtdo5zi",
      "execution_count": 19,
      "outputs": [
        {
          "output_type": "execute_result",
          "data": {
            "text/plain": [
              "<Figure size 720x720 with 0 Axes>"
            ]
          },
          "metadata": {},
          "execution_count": 19
        },
        {
          "output_type": "execute_result",
          "data": {
            "text/plain": [
              "[<matplotlib.lines.Line2D at 0x7fb0098ed510>]"
            ]
          },
          "metadata": {},
          "execution_count": 19
        },
        {
          "output_type": "execute_result",
          "data": {
            "text/plain": [
              "Text(0.5, 1.0, 'Linked list access at Random position')"
            ]
          },
          "metadata": {},
          "execution_count": 19
        },
        {
          "output_type": "execute_result",
          "data": {
            "text/plain": [
              "Text(0.5, 0, 'Length of linked list')"
            ]
          },
          "metadata": {},
          "execution_count": 19
        },
        {
          "output_type": "execute_result",
          "data": {
            "text/plain": [
              "Text(0, 0.5, 'insertion time (nano sec)')"
            ]
          },
          "metadata": {},
          "execution_count": 19
        },
        {
          "output_type": "execute_result",
          "data": {
            "text/plain": [
              "<matplotlib.legend.Legend at 0x7fb009dba790>"
            ]
          },
          "metadata": {},
          "execution_count": 19
        },
        {
          "output_type": "display_data",
          "data": {
            "image/png": "[encoded data removed]",
            "text/plain": [
              "<Figure size 720x720 with 1 Axes>"
            ]
          },
          "metadata": {
            "needs_background": "light"
          }
        }
      ]
    },
    {
      "cell_type": "markdown",
      "metadata": {
        "id": "IU4oiOzk490B"
      },
      "source": [
        "Observation : We can see that the time taken to access an element at the random position  of the list is direct propositional and our understanding is it has time complexity of O(n). "
      ],
      "id": "IU4oiOzk490B"
    },
    {
      "cell_type": "code",
      "metadata": {
        "id": "IXyMFIHb66dj"
      },
      "source": [
        ""
      ],
      "id": "IXyMFIHb66dj",
      "execution_count": 19,
      "outputs": []
    },
    {
      "cell_type": "markdown",
      "metadata": {
        "id": "QWyJh1Ca7DbH"
      },
      "source": [
        "# Double Linked list code implementation "
      ],
      "id": "QWyJh1Ca7DbH"
    },
    {
      "cell_type": "code",
      "metadata": {
        "id": "gKY29e1p66VQ"
      },
      "source": [
        "# Double Linked List Implementation\n",
        "\n",
        "\n",
        "class Node:\n",
        "    def __init__(self, data):\n",
        "        self.data = data\n",
        "        self.next_node = None\n",
        "        self.prev_node = None\n",
        "\n",
        "    def __str__(self):\n",
        "        return str(self.data)\n",
        "\n",
        "\n",
        "class DoubleLinkedList:\n",
        "    def __init__(self, head=None, tail=None):\n",
        "        self.head = head\n",
        "        self.tail = tail\n",
        "\n",
        "    def add_at_head(self, data):\n",
        "        new_node = Node(data)\n",
        "\n",
        "        if self.head is None:\n",
        "            self.head = new_node\n",
        "            self.tail = new_node\n",
        "            return\n",
        "\n",
        "        current_node = self.head\n",
        "        self.head = new_node\n",
        "        new_node.next_node = current_node\n",
        "        current_node.prev_node = new_node\n",
        "\n",
        "    def add_at_tail(self, data):\n",
        "        new_node = Node(data)\n",
        "\n",
        "        if self.head is None:\n",
        "            self.head = new_node\n",
        "            self.tail = new_node\n",
        "            return\n",
        "\n",
        "        current_node = self.tail\n",
        "        self.tail = new_node\n",
        "        new_node.prev_node = current_node\n",
        "        current_node.next_node = new_node\n",
        "\n",
        "    def __str__(self):\n",
        "        current_node = self.head\n",
        "        ln_list_str = \"\"\n",
        "\n",
        "        if current_node is None:\n",
        "            return \"Double Linked List is Empty!!!\"\n",
        "\n",
        "        while current_node is not None:\n",
        "            ln_list_str = ln_list_str + str(current_node.data) + \" \"\n",
        "            current_node = current_node.next_node\n",
        "        return ln_list_str\n",
        "\n",
        "    def __len__(self):\n",
        "        current_node = self.head\n",
        "        iterator = 0\n",
        "        while current_node is not None:\n",
        "            iterator = iterator + 1\n",
        "            current_node = current_node.next_node\n",
        "        return iterator\n",
        "\n",
        "    def at(self, index):\n",
        "        current_node = self.head\n",
        "        current_node_tail = self.tail\n",
        "        itr = 1\n",
        "        if index == 0:\n",
        "            print(\"Indexing starts from 1!!!\")\n",
        "            return\n",
        "        elif index > self.__len__():\n",
        "            print(\"Index is out of range!!!\")\n",
        "            return\n",
        "        elif index <= round(self.__len__() / 2):\n",
        "\n",
        "            while itr < index:\n",
        "                current_node = current_node.next_node\n",
        "                itr = itr + 1\n",
        "            return current_node.data\n",
        "        else:\n",
        "            new_index = self.__len__() - index + 1\n",
        "            while itr < new_index:\n",
        "                current_node_tail = current_node_tail.prev_node\n",
        "                itr = itr + 1\n",
        "            return current_node_tail.data\n",
        "\n",
        "    def insert(self, index, data):\n",
        "        new_node = Node(data)\n",
        "        current_node = self.head\n",
        "        current_node_tail = self.tail\n",
        "        itr = 1\n",
        "        if index == 0:\n",
        "            print(\"Indexing starts from 1!!!\")\n",
        "            return\n",
        "        elif index > self.__len__():\n",
        "            print(\"Index is out of range!!!\")\n",
        "            return\n",
        "        elif index == 1:\n",
        "            self.head = new_node\n",
        "            new_node.next_node = current_node\n",
        "            current_node.prev_node = new_node\n",
        "            return\n",
        "        elif index == self.__len__():\n",
        "            self.tail = new_node\n",
        "            new_node.prev_node = current_node_tail\n",
        "            current_node_tail.next_node = new_node\n",
        "            return\n",
        "        elif index <= math.ceil((self.__len__()) / 2):\n",
        "            while itr < (index - 1):\n",
        "                current_node = current_node.next_node\n",
        "                itr = itr + 1\n",
        "            new_node.next_node = current_node.next_node\n",
        "            current_node_next_node = current_node.next_node\n",
        "            current_node.next_node = new_node\n",
        "            new_node.prev_node = current_node\n",
        "            current_node_next_node.prev_node = new_node\n",
        "            return\n",
        "        else:\n",
        "            while itr <= self.__len__() - index:\n",
        "                current_node_tail = current_node_tail.prev_node\n",
        "                itr = itr + 1\n",
        "            new_node.prev_node = current_node_tail.prev_node\n",
        "            current_node_tail_prev_node = current_node_tail.prev_node\n",
        "            current_node_tail.prev_node = new_node\n",
        "            new_node.next_node = current_node_tail\n",
        "            current_node_tail_prev_node.next_node = new_node\n",
        "            return\n",
        "\n",
        "    def remove(self, index):\n",
        "        current_node = self.head\n",
        "        current_node_tail = self.tail\n",
        "        itr = 1\n",
        "        if index == 0:\n",
        "            print(\"Indexing starts from 1!!!\")\n",
        "            return\n",
        "        elif index == 1:\n",
        "            self.head = current_node.next_node\n",
        "            current_node.next_node.prev_node = None\n",
        "            return\n",
        "        elif index == self.__len__():\n",
        "            self.tail = current_node_tail.prev_node\n",
        "            current_node_tail.prev_node.next_node = None\n",
        "            return\n",
        "        elif index <= math.ceil((self.__len__()) / 2):\n",
        "            while itr < (index - 1):\n",
        "                current_node = current_node.next_node\n",
        "                itr = itr + 1\n",
        "            current_node.next_node = current_node.next_node.next_node\n",
        "            current_node.next_node.prev_node = current_node\n",
        "            return\n",
        "        else:\n",
        "            while itr < self.__len__() - index:\n",
        "                current_node_tail = current_node_tail.prev_node\n",
        "                itr = itr + 1\n",
        "            current_node_tail.prev_node = current_node_tail.prev_node.prev_node\n",
        "            current_node_tail.prev_node.next_node = current_node_tail\n",
        "            return\n",
        "\n",
        "\n",
        "\n"
      ],
      "id": "gKY29e1p66VQ",
      "execution_count": 21,
      "outputs": []
    },
    {
      "cell_type": "code",
      "metadata": {
        "colab": {
          "base_uri": "https://localhost:8080/"
        },
        "id": "K2og5AYMUk6D",
        "outputId": "6e37a81f-b522-48fb-d017-e968c1ba27ee"
      },
      "source": [
        "# Code testing \n",
        "dll = DoubleLinkedList()\n",
        "dll.add_at_head(1)\n",
        "print(dll)\n",
        "dll.add_at_tail(3)\n",
        "print(dll)\n",
        "dll.add_at_head(4)\n",
        "print(dll)\n",
        "dll.add_at_tail(10)\n",
        "print(dll)\n",
        "print(dll.__len__())\n",
        "print(dll.at(2))\n",
        "dll.insert(2, 8)\n",
        "print(dll)\n",
        "dll.insert(4, 8)\n",
        "print(dll)\n",
        "dll.insert(5, 60)\n",
        "print(dll)\n",
        "dll.remove(6)\n",
        "print(dll)\n"
      ],
      "id": "K2og5AYMUk6D",
      "execution_count": 22,
      "outputs": [
        {
          "output_type": "stream",
          "name": "stdout",
          "text": [
            "1 \n",
            "1 3 \n",
            "4 1 3 \n",
            "4 1 3 10 \n",
            "4\n",
            "1\n",
            "4 8 1 3 10 \n",
            "4 8 1 8 3 10 \n",
            "4 8 1 8 60 3 10 \n",
            "4 8 1 8 60 10 \n"
          ]
        }
      ]
    },
    {
      "cell_type": "code",
      "metadata": {
        "id": "jBysDJPIaR0u"
      },
      "source": [
        "# End of the File"
      ],
      "id": "jBysDJPIaR0u",
      "execution_count": null,
      "outputs": []
    }
  ]
}